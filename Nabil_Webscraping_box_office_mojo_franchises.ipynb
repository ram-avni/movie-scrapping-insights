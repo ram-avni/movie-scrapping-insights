{
 "cells": [
  {
   "cell_type": "code",
   "execution_count": 2,
   "metadata": {},
   "outputs": [],
   "source": [
    "#IMPORT PACKAGES\n",
    "\n",
    "import requests\n",
    "import config\n",
    "import mysql.connector \n",
    "import time\n",
    "from bs4 import BeautifulSoup"
   ]
  },
  {
   "cell_type": "markdown",
   "metadata": {},
   "source": [
    "# This file was to webscrape BoxOffice Mojo to analyze franchises to team up with, but we did not continue with this route"
   ]
  },
  {
   "cell_type": "code",
   "execution_count": 5,
   "metadata": {},
   "outputs": [],
   "source": [
    "#BEGIN WEBSCRAPING\n",
    "\n",
    "html_page = requests.get('https://www.boxofficemojo.com/franchises/?view=Brand&p=.htm')\n",
    "soup = BeautifulSoup(html_page.content, 'html.parser')"
   ]
  },
  {
   "cell_type": "code",
   "execution_count": 55,
   "metadata": {},
   "outputs": [
    {
     "data": {
      "text/plain": [
       "[<font size=\"2\"><a href=\"./chart/?id=wag.htm\"><b>Warner Animation Group</b></a></font>]"
      ]
     },
     "execution_count": 55,
     "metadata": {},
     "output_type": "execute_result"
    }
   ],
   "source": [
    "div = soup.find('table', border=\"0\", cellspacing=\"1\",\n",
    "               cellpadding=\"5\", width=\"95%\")\n",
    "# list(list(div.findAll('tr')[-1].children)[0].children)"
   ]
  },
  {
   "cell_type": "code",
   "execution_count": 187,
   "metadata": {},
   "outputs": [
    {
     "data": {
      "text/plain": [
       "'Aardman'"
      ]
     },
     "execution_count": 187,
     "metadata": {},
     "output_type": "execute_result"
    }
   ],
   "source": [
    "#CONTINUE WEBSCRAPING\n",
    "\n",
    "div = soup.find('table', border=\"0\", cellspacing=\"1\",\n",
    "               cellpadding=\"5\", width=\"95%\")\n",
    "\n",
    "list(div.findAll('b')[1].children)[0]\n",
    "#BRAND\n",
    "# list(list(div.findAll('td', align=\"right\")[-1].children)[0].children)\n",
    "#TOTAL GROSS, the three is interchangable between 0:3\n",
    "# div.findAll('td', align=\"right\")\n"
   ]
  },
  {
   "cell_type": "code",
   "execution_count": 127,
   "metadata": {},
   "outputs": [],
   "source": [
    "# div.findAll('td', align=\"right\")"
   ]
  },
  {
   "cell_type": "code",
   "execution_count": 213,
   "metadata": {},
   "outputs": [
    {
     "data": {
      "text/plain": [
       "[['$333.8', '8', '$41.7', '$106.8'],\n",
       " ['$276.1', '4', '$69.0', '$107.5'],\n",
       " ['$193.7', '40', '$4.8', '$47.7'],\n",
       " ['$2,561.9', '14', '$183.0', '$936.7'],\n",
       " ['$1,673.7', '12', '$139.5', '$196.6'],\n",
       " ['$2,201.3', '43', '$51.2', '$176.0'],\n",
       " ['$73.3', '5', '$14.7', '$30.6'],\n",
       " ['$577.3', '27', '$21.4', '$63.9'],\n",
       " ['$110.5', '9', '$12.3', '$25.8'],\n",
       " ['$454.6', '16', '$28.4', '$63.7'],\n",
       " ['$947.7', '16', '$59.2', '$210.6'],\n",
       " ['$5,289.6', '33', '$160.3', '$533.3'],\n",
       " ['$360.0', '8', '$45.0', '$90.6'],\n",
       " ['$151.6', '8', '$19.0', '$32.0'],\n",
       " ['$337.6', '8', '$42.2', '$90.3'],\n",
       " ['$5,597.4', '36', '$155.5', '$441.2'],\n",
       " ['$529.9', '8', '$66.2', '$153.3'],\n",
       " ['$2,051.2', '16', '$128.2', '$402.1'],\n",
       " ['$2,605.7', '10', '$260.6', '$368.4'],\n",
       " ['$645.7', '10', '$64.6', '$158.3'],\n",
       " ['$300.2', '6', '$50.0', '$75.3'],\n",
       " ['$6,914.0', '52', '$133.0', '$652.3'],\n",
       " ['$5,427.1', '25', '$217.1', '$936.7'],\n",
       " ['$14,166.8', '58', '$244.3', '$856.7'],\n",
       " ['$1,520.5', '36', '$42.2', '$158.1'],\n",
       " ['$412.1', '17', '$24.2', '$120.1'],\n",
       " ['$574.7', '11', '$52.2', '$81.0'],\n",
       " ['$1,870.3', '25', '$74.8', '$191.2'],\n",
       " ['$489.9', '11', '$44.5', '$132.1'],\n",
       " ['$5,871.7', '21', '$279.6', '$608.6'],\n",
       " ['$1,157.8', '16', '$72.4', '$191.2'],\n",
       " ['$355.7', '6', '$59.3', '$206.5'],\n",
       " ['$645.5', '6', '$107.6', '$227.5'],\n",
       " ['$346.5', '11', '$31.5', '$121.7'],\n",
       " ['$1,001.8', '28', '$35.8', '$169.1'],\n",
       " ['$1,769.5', '18', '$98.3', '$190.2'],\n",
       " ['$1,483.5', '42', '$35.3', '$327.5'],\n",
       " ['$62.3', '17', '$3.7', '$19.2'],\n",
       " ['$890.0', '8', '$111.2', '$334.2'],\n",
       " ['$765.6', '16', '$47.8', '$90.5'],\n",
       " ['$2,772.0', '35', '$79.2', '$327.5'],\n",
       " ['$1,842.8', '37', '$49.8', '$291.7'],\n",
       " ['$2,147.6', '11', '$195.2', '$400.7'],\n",
       " ['$784.3', '7', '$112.0', '$257.8']]"
      ]
     },
     "execution_count": 213,
     "metadata": {},
     "output_type": "execute_result"
    }
   ],
   "source": [
    "####     DISREGARD THIS FUNCTION DO NOT USE   ######\n",
    "\n",
    "# def mojo_franchise_data():\n",
    "    \n",
    "#     html_page = requests.get('https://www.boxofficemojo.com/franchises/?view=Brand&p=.htm')\n",
    "#     soup = BeautifulSoup(html_page.content, 'html.parser')\n",
    "#     div = soup.find('table', border=\"0\", cellspacing=\"1\",\n",
    "#                cellpadding=\"5\", width=\"95%\")\n",
    "    \n",
    "#     brand_values = []\n",
    "#     output = list(div.findAll('td', align=\"right\"))\n",
    "#     for i in range(len(output)):\n",
    "\n",
    "\n",
    "#         if i % 4 == 3:\n",
    "#             temp_list.extend(list(list(div.findAll('td', align=\"right\")[i].children)[0].children))\n",
    "#             brand_values.append(temp_list)\n",
    "\n",
    "\n",
    "#         elif i % 4 == 0:\n",
    "#             temp_list = []\n",
    "#             temp_list.extend(list(list(div.findAll('td', align=\"right\")[i].children)[0].children))\n",
    "\n",
    "#         else:\n",
    "#             temp_list.extend(list(list(div.findAll('td', align=\"right\")[i].children)[0].children))\n",
    "        \n",
    "#     return brand_values\n",
    "# mojo_franchise_data()\n",
    "    \n",
    "    \n",
    "    "
   ]
  },
  {
   "cell_type": "code",
   "execution_count": 212,
   "metadata": {
    "scrolled": true
   },
   "outputs": [
    {
     "data": {
      "text/plain": [
       "['Aardman',\n",
       " 'Alan Moore',\n",
       " 'Amazon Studios',\n",
       " 'Bad Robot',\n",
       " 'Blue Sky',\n",
       " 'Blumhouse Productions',\n",
       " 'Broken Lizard',\n",
       " 'CBS Films',\n",
       " 'Clive Barker',\n",
       " 'Dark Castle',\n",
       " 'Dark Horse Comics',\n",
       " 'DC Comics',\n",
       " 'Disney Channel',\n",
       " 'Disneynature',\n",
       " 'DisneyToon Studios',\n",
       " 'DreamWorks Animation',\n",
       " 'Hanna-Barbera',\n",
       " 'Hasbro',\n",
       " 'Illumination Entertainment',\n",
       " 'John Grisham',\n",
       " 'Laika',\n",
       " 'Legendary Pictures',\n",
       " 'Lucasfilm',\n",
       " 'Marvel Comics',\n",
       " 'MTV',\n",
       " 'National Lampoon',\n",
       " 'Nicholas Sparks',\n",
       " 'Nickelodeon',\n",
       " 'Philip K. Dick',\n",
       " 'Pixar',\n",
       " 'Platinum Dunes',\n",
       " 'Roald Dahl',\n",
       " 'Robert Ludlum',\n",
       " 'Saturday Night Live',\n",
       " 'Saturday Night Live - Alumni Debuts',\n",
       " 'Sony Pictures Animation',\n",
       " 'Stephen King',\n",
       " 'Studio Ghibli',\n",
       " 'Tim Burton-Johnny Depp',\n",
       " 'Tyler Perry',\n",
       " 'Vertigo Entertainment',\n",
       " 'Walden Media',\n",
       " 'Walt Disney Animation Studios',\n",
       " 'Warner Animation Group']"
      ]
     },
     "execution_count": 212,
     "metadata": {},
     "output_type": "execute_result"
    }
   ],
   "source": [
    "#OBTAIN FRANCHISE NAMES\n",
    "\n",
    "\n",
    "# list(div.findAll('b')[1].children)[0]\n",
    "# list(div.findAll('b')[1].children)\n",
    "def mojo_franchise_names():\n",
    "    \n",
    "    html_page = requests.get('https://www.boxofficemojo.com/franchises/?view=Brand&p=.htm')\n",
    "    soup = BeautifulSoup(html_page.content, 'html.parser')\n",
    "    div = soup.find('table', border=\"0\", cellspacing=\"1\",\n",
    "               cellpadding=\"5\", width=\"95%\")\n",
    "    \n",
    "    franchise = []\n",
    "    for i in range(len(div.findAll('b'))):\n",
    "        franchise.append(list(div.findAll('b')[i].children)[0])\n",
    "    del franchise[0]\n",
    "    return franchise\n",
    "mojo_franchise_names()\n",
    "    "
   ]
  },
  {
   "cell_type": "code",
   "execution_count": 1,
   "metadata": {
    "scrolled": false
   },
   "outputs": [
    {
     "ename": "NameError",
     "evalue": "name 'requests' is not defined",
     "output_type": "error",
     "traceback": [
      "\u001b[0;31m---------------------------------------------------------------------------\u001b[0m",
      "\u001b[0;31mNameError\u001b[0m                                 Traceback (most recent call last)",
      "\u001b[0;32m<ipython-input-1-fe2582121000>\u001b[0m in \u001b[0;36m<module>\u001b[0;34m\u001b[0m\n\u001b[1;32m     34\u001b[0m \u001b[0;34m\u001b[0m\u001b[0m\n\u001b[1;32m     35\u001b[0m     \u001b[0;32mreturn\u001b[0m \u001b[0mdictionary\u001b[0m\u001b[0;34m\u001b[0m\u001b[0;34m\u001b[0m\u001b[0m\n\u001b[0;32m---> 36\u001b[0;31m \u001b[0mmojo_franchise_data\u001b[0m\u001b[0;34m(\u001b[0m\u001b[0;34m)\u001b[0m\u001b[0;34m\u001b[0m\u001b[0;34m\u001b[0m\u001b[0m\n\u001b[0m\u001b[1;32m     37\u001b[0m \u001b[0;34m\u001b[0m\u001b[0m\n",
      "\u001b[0;32m<ipython-input-1-fe2582121000>\u001b[0m in \u001b[0;36mmojo_franchise_data\u001b[0;34m()\u001b[0m\n\u001b[1;32m      1\u001b[0m \u001b[0;32mdef\u001b[0m \u001b[0mmojo_franchise_data\u001b[0m\u001b[0;34m(\u001b[0m\u001b[0;34m)\u001b[0m\u001b[0;34m:\u001b[0m\u001b[0;34m\u001b[0m\u001b[0;34m\u001b[0m\u001b[0m\n\u001b[1;32m      2\u001b[0m \u001b[0;34m\u001b[0m\u001b[0m\n\u001b[0;32m----> 3\u001b[0;31m     \u001b[0mhtml_page\u001b[0m \u001b[0;34m=\u001b[0m \u001b[0mrequests\u001b[0m\u001b[0;34m.\u001b[0m\u001b[0mget\u001b[0m\u001b[0;34m(\u001b[0m\u001b[0;34m'https://www.boxofficemojo.com/franchises/?view=Brand&p=.htm'\u001b[0m\u001b[0;34m)\u001b[0m\u001b[0;34m\u001b[0m\u001b[0;34m\u001b[0m\u001b[0m\n\u001b[0m\u001b[1;32m      4\u001b[0m     \u001b[0msoup\u001b[0m \u001b[0;34m=\u001b[0m \u001b[0mBeautifulSoup\u001b[0m\u001b[0;34m(\u001b[0m\u001b[0mhtml_page\u001b[0m\u001b[0;34m.\u001b[0m\u001b[0mcontent\u001b[0m\u001b[0;34m,\u001b[0m \u001b[0;34m'html.parser'\u001b[0m\u001b[0;34m)\u001b[0m\u001b[0;34m\u001b[0m\u001b[0;34m\u001b[0m\u001b[0m\n\u001b[1;32m      5\u001b[0m     div = soup.find('table', border=\"0\", cellspacing=\"1\",\n",
      "\u001b[0;31mNameError\u001b[0m: name 'requests' is not defined"
     ]
    }
   ],
   "source": [
    "def mojo_franchise_data():\n",
    "    \n",
    "    html_page = requests.get('https://www.boxofficemojo.com/franchises/?view=Brand&p=.htm')\n",
    "    soup = BeautifulSoup(html_page.content, 'html.parser')\n",
    "    div = soup.find('table', border=\"0\", cellspacing=\"1\",\n",
    "               cellpadding=\"5\", width=\"95%\")\n",
    "    \n",
    "    brand_values = []\n",
    "    total_gross = []\n",
    "    total_movies = []\n",
    "    avg_gross_per_movie = []\n",
    "    top_picture_gross = []\n",
    "    dictionary = {}\n",
    "    \n",
    "    dictionary['franchise_name'] = mojo_franchise_names()\n",
    "    output = list(div.findAll('td', align=\"right\"))\n",
    "    for i in range(len(output)):\n",
    "        brand_values.extend(list(list(div.findAll('td', align=\"right\")[i].children)[0].children))\n",
    "#         time.sleep(1)\n",
    "        if i % 4 == 0:\n",
    "            total_gross.append(brand_values[i])\n",
    "            dictionary['total_gross'] = total_gross    \n",
    "        elif i % 4 == 1:\n",
    "            total_movies.append(brand_values[i])\n",
    "            dictionary['total_movies'] = total_movies\n",
    "        elif i % 4 == 2:\n",
    "            avg_gross_per_movie.append(brand_values[i])\n",
    "            dictionary['avg_gross_per_movie'] = avg_gross_per_movie\n",
    "        elif i % 4 == 3:\n",
    "            dictionary['top_picture'] = mojo_franchise_top_films()\n",
    "            top_picture_gross.append(brand_values[i])\n",
    "            dictionary['top_picture_gross'] = top_picture_gross\n",
    "\n",
    "            \n",
    "    return dictionary\n",
    "mojo_franchise_data()\n",
    "        "
   ]
  },
  {
   "cell_type": "code",
   "execution_count": null,
   "metadata": {},
   "outputs": [],
   "source": [
    "\n",
    "\n",
    "def mojo_franchise_data():\n",
    "    \n",
    "    html_page = requests.get('https://www.boxofficemojo.com/franchises/?view=Brand&p=.htm')\n",
    "    soup = BeautifulSoup(html_page.content, 'html.parser')\n",
    "    div = soup.find('table', border=\"0\", cellspacing=\"1\",\n",
    "               cellpadding=\"5\", width=\"95%\")\n",
    "    \n",
    "    output = list(div.findAll('td', align=\"right\"))\n",
    "    dictionary ={}\n",
    "    list_of_dictionaries = []\n",
    "    for i in range(len(output)):\n",
    "        for i2 in range(len(mojo_franchise_top_films())):\n",
    "            dictionary['franchise_top_films'] = mojo_franchise_top_films()[i2]\n",
    "            list_of_dictionaries.append(dictionary['franchise_top_films'])\n",
    "            \n",
    "    return list_of_dictionaries\n",
    "# mojo_franchise_data()"
   ]
  },
  {
   "cell_type": "code",
   "execution_count": 311,
   "metadata": {},
   "outputs": [
    {
     "data": {
      "text/plain": [
       "'Chicken Run'"
      ]
     },
     "execution_count": 311,
     "metadata": {},
     "output_type": "execute_result"
    }
   ],
   "source": [
    "#WEBSCRAPING FOR TOP FILM\n",
    "\n",
    "html_page = requests.get('https://www.boxofficemojo.com/franchises/?view=Brand&p=.htm')\n",
    "soup = BeautifulSoup(html_page.content, 'html.parser')\n",
    "div = soup.find('table', border=\"0\", cellspacing=\"1\",\n",
    "               cellpadding=\"5\", width=\"95%\")\n",
    "list(list(list(div.findAll('td', align=\"center\")[5].children)[0].children)[0].children)[0]\n",
    "\n",
    "#5 to the end\n",
    "\n"
   ]
  },
  {
   "cell_type": "code",
   "execution_count": 3,
   "metadata": {},
   "outputs": [
    {
     "data": {
      "text/plain": [
       "['Chicken Run',\n",
       " 'Watchmen',\n",
       " 'Manchester by the Sea',\n",
       " 'Star Wars: The Force Awakens',\n",
       " 'Ice Age 3',\n",
       " 'Get Out',\n",
       " 'Super Troopers 2',\n",
       " 'Last Vegas',\n",
       " 'Candyman',\n",
       " 'Unknown',\n",
       " '300',\n",
       " 'The Dark Knight',\n",
       " 'High School Musical 3',\n",
       " 'Earth (2009)',\n",
       " 'Planes',\n",
       " 'Shrek 2',\n",
       " 'Scooby-Doo',\n",
       " 'Transformers 2',\n",
       " 'The Secret Life of Pets',\n",
       " 'The Firm',\n",
       " 'Coraline',\n",
       " 'Jurassic World',\n",
       " 'Star Wars: The Force Awakens',\n",
       " 'Avengers: Endgame',\n",
       " 'The Longest Yard',\n",
       " \"National Lampoon's Animal House\",\n",
       " 'The Notebook',\n",
       " 'Ninja Turtles',\n",
       " 'Minority Report',\n",
       " 'Incredibles 2',\n",
       " 'Ninja Turtles',\n",
       " 'Charlie and the Chocolate Factory',\n",
       " 'The Bourne Ultimatum',\n",
       " \"Wayne's World\",\n",
       " 'Bridesmaids',\n",
       " 'Spider-Man: Into The Spider-Verse',\n",
       " 'It',\n",
       " 'The Secret World of Arrietty',\n",
       " 'Alice in Wonderland',\n",
       " 'Madea Goes to Jail',\n",
       " 'It',\n",
       " 'The Chronicles of Narnia',\n",
       " 'Frozen',\n",
       " 'The LEGO Movie']"
      ]
     },
     "execution_count": 3,
     "metadata": {},
     "output_type": "execute_result"
    }
   ],
   "source": [
    "# SCRAPE THE FRANCHISES TOP FILMS\n",
    "\n",
    "def mojo_franchise_top_films():\n",
    "    \n",
    "    #BeautifulSoup setup\n",
    "    html_page = requests.get('https://www.boxofficemojo.com/franchises/?view=Brand&p=.htm')\n",
    "    soup = BeautifulSoup(html_page.content, 'html.parser')\n",
    "    div = soup.find('table', border=\"0\", cellspacing=\"1\",\n",
    "               cellpadding=\"5\", width=\"95%\")\n",
    "    \n",
    "    top_pictures = []\n",
    "    for i in range(len(div.findAll('td', align=\"center\"))):\n",
    "        top_pictures.append(list(list(list(div.findAll('td', align=\"center\")[i].children)[0].children)[0].children)[0])\n",
    "    del(top_pictures[:5]) #deleting first 5 elements, they're not movies\n",
    "    return top_pictures\n",
    "    \n",
    "mojo_franchise_top_films()\n",
    "    "
   ]
  },
  {
   "cell_type": "code",
   "execution_count": null,
   "metadata": {},
   "outputs": [],
   "source": []
  }
 ],
 "metadata": {
  "kernelspec": {
   "display_name": "Python 3",
   "language": "python",
   "name": "python3"
  },
  "language_info": {
   "codemirror_mode": {
    "name": "ipython",
    "version": 3
   },
   "file_extension": ".py",
   "mimetype": "text/x-python",
   "name": "python",
   "nbconvert_exporter": "python",
   "pygments_lexer": "ipython3",
   "version": "3.7.3"
  }
 },
 "nbformat": 4,
 "nbformat_minor": 2
}
