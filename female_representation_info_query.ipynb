{
 "cells": [
  {
   "cell_type": "markdown",
   "metadata": {},
   "source": [
    "# Connect to MySQL Workbench using the correct credentials.\n",
    "## Once connected, insert the following code to query the needed table to analyze the female cast ratio against movie ratings and profitability."
   ]
  },
  {
   "cell_type": "code",
   "execution_count": 1,
   "metadata": {},
   "outputs": [],
   "source": [
    "import pandas as pd\n",
    "import sqlite3\n",
    "import config # this import should contain your connection host name, \n",
    "              # user name, and id.\n",
    "\n"
   ]
  },
  {
   "cell_type": "code",
   "execution_count": null,
   "metadata": {},
   "outputs": [],
   "source": [
    "conn = sqlite3.connect('\n",
    "                       config.host = \n",
    "                       config.user = \n",
    "                       config.password =')\n",
    "c = conn.cursor()"
   ]
  },
  {
   "cell_type": "code",
   "execution_count": 4,
   "metadata": {},
   "outputs": [],
   "source": [
    "\n",
    "\n",
    "query_name = 'SELECT a.movie_id, actress / tot_actors as f_rep, b.percent_profit, b.vote_average \\\n",
    "FROM \\\n",
    "(SELECT actor_info.movie_id, Count(actor_info.id) as actress \\\n",
    "FROM actor_info\\\n",
    "JOIN actor_details\\\n",
    "USING (name)\\\n",
    "JOIN movie_info\\\n",
    "on movie_info.id = actor_info.movie_id\\\n",
    "WHERE gender = \"Female\" \\\n",
    "GROUP BY actor_info.movie_id) a, \\\n",
    "(SELECT actor_info.movie_id, \\\n",
    "movie_info.vote_average,   \\\n",
    "Count(actor_info.id) as tot_actors,\\\n",
    "round((revenue / budget)*100, 2) as percent_profit\\\n",
    "FROM actor_info\\\n",
    "JOIN actor_details\\\n",
    "USING (name)\\\n",
    "JOIN movie_info\\\n",
    "on movie_info.id = actor_info.movie_id\\\n",
    "GROUP BY actor_info.movie_id) b\\\n",
    "WHERE a.movie_id = b.movie_id'"
   ]
  },
  {
   "cell_type": "code",
   "execution_count": 5,
   "metadata": {},
   "outputs": [
    {
     "data": {
      "text/plain": [
       "'SELECT a.movie_id, actress / tot_actors as f_rep, b.percent_profit, b.vote_average FROM (SELECT actor_info.movie_id, Count(actor_info.id) as actress FROM actor_infoJOIN actor_detailsUSING (name)JOIN movie_infoon movie_info.id = actor_info.movie_idWHERE gender = \"Female\" GROUP BY actor_info.movie_id) a, (SELECT actor_info.movie_id, movie_info.vote_average,   Count(actor_info.id) as tot_actors,round((revenue / budget)*100, 2) as percent_profitFROM actor_infoJOIN actor_detailsUSING (name)JOIN movie_infoon movie_info.id = actor_info.movie_idGROUP BY actor_info.movie_id) bWHERE a.movie_id = b.movie_id'"
      ]
     },
     "execution_count": 5,
     "metadata": {},
     "output_type": "execute_result"
    }
   ],
   "source": [
    "query_name"
   ]
  },
  {
   "cell_type": "code",
   "execution_count": null,
   "metadata": {},
   "outputs": [],
   "source": [
    "c.execute(query_name)"
   ]
  }
 ],
 "metadata": {
  "kernelspec": {
   "display_name": "Python 3",
   "language": "python",
   "name": "python3"
  },
  "language_info": {
   "codemirror_mode": {
    "name": "ipython",
    "version": 3
   },
   "file_extension": ".py",
   "mimetype": "text/x-python",
   "name": "python",
   "nbconvert_exporter": "python",
   "pygments_lexer": "ipython3",
   "version": "3.7.3"
  }
 },
 "nbformat": 4,
 "nbformat_minor": 2
}
