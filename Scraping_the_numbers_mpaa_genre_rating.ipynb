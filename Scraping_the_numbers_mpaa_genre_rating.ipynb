{
 "cells": [
  {
   "cell_type": "code",
   "execution_count": 1,
   "metadata": {},
   "outputs": [],
   "source": [
    "import requests\n",
    "import config\n",
    "import mysql.connector\n",
    "import json\n",
    "from bs4 import BeautifulSoup\n",
    "import time"
   ]
  },
  {
   "cell_type": "code",
   "execution_count": 2,
   "metadata": {},
   "outputs": [],
   "source": [
    "# This fileis for scraping The Numbers website for the MPAA ratings of movie genres"
   ]
  },
  {
   "cell_type": "code",
   "execution_count": 3,
   "metadata": {},
   "outputs": [],
   "source": [
    "html_page = requests.get(\"https://www.the-numbers.com/market/mpaa-ratings\")\n",
    "soup = BeautifulSoup(html_page.content, \"html.parser\")\n"
   ]
  },
  {
   "cell_type": "code",
   "execution_count": 4,
   "metadata": {},
   "outputs": [
    {
     "data": {
      "text/plain": [
       "['PG-13', 'R', 'PG', 'G', 'Not Rated', 'NC-17', 'Open', 'GP', 'M/PG']"
      ]
     },
     "execution_count": 4,
     "metadata": {},
     "output_type": "execute_result"
    }
   ],
   "source": [
    "#table = div.findAll(\"td\", class_=\"data\")\n",
    "#table = div.findAll()\n",
    "\n",
    "div = soup.find(\"table\")\n",
    "\n",
    "list(map(lambda x: x.text, div.findAll('a')))"
   ]
  },
  {
   "cell_type": "code",
   "execution_count": 5,
   "metadata": {},
   "outputs": [
    {
     "data": {
      "text/plain": [
       "['1',\n",
       " 'PG-13',\n",
       " '3,060',\n",
       " '$109,330,688,952',\n",
       " '15,827,722,937',\n",
       " '47.93%',\n",
       " '2',\n",
       " 'R',\n",
       " '5,165',\n",
       " '$60,559,241,440',\n",
       " '9,327,476,688',\n",
       " '26.55%',\n",
       " '3',\n",
       " 'PG',\n",
       " '1,424',\n",
       " '$46,713,440,785',\n",
       " '6,749,759,237',\n",
       " '20.48%',\n",
       " '4',\n",
       " 'G',\n",
       " '377',\n",
       " '$9,540,005,420',\n",
       " '1,529,977,839',\n",
       " '4.18%',\n",
       " '5',\n",
       " 'Not Rated',\n",
       " '5,187',\n",
       " '$1,761,674,886',\n",
       " '267,618,935',\n",
       " '0.77%',\n",
       " '6',\n",
       " 'NC-17',\n",
       " '24',\n",
       " '$44,850,139',\n",
       " '8,398,057',\n",
       " '0.02%',\n",
       " '7',\n",
       " 'Open',\n",
       " '5',\n",
       " '$5,489,687',\n",
       " '980,320',\n",
       " '0.00%',\n",
       " '8',\n",
       " 'GP',\n",
       " '6',\n",
       " '$274,799',\n",
       " '34,653',\n",
       " '0.00%',\n",
       " '9',\n",
       " 'M/PG',\n",
       " '1',\n",
       " '$83,305',\n",
       " '11,107',\n",
       " '0.00%']"
      ]
     },
     "execution_count": 5,
     "metadata": {},
     "output_type": "execute_result"
    }
   ],
   "source": [
    "share_rating = list(map(lambda x: x.text, div.findAll('td')))\n",
    "share_rating"
   ]
  },
  {
   "cell_type": "code",
   "execution_count": 15,
   "metadata": {},
   "outputs": [
    {
     "data": {
      "text/plain": [
       "[{'rank': '1',\n",
       "  'rating': 'PG-13',\n",
       "  'movies': '3,060',\n",
       "  'total': '$109,330,688,952',\n",
       "  'tickets': '15,827,722,937',\n",
       "  'percent': '47.93%'},\n",
       " {'rank': '2',\n",
       "  'rating': 'R',\n",
       "  'movies': '5,165',\n",
       "  'total': '$60,559,241,440',\n",
       "  'tickets': '9,327,476,688',\n",
       "  'percent': '26.55%'},\n",
       " {'rank': '3',\n",
       "  'rating': 'PG',\n",
       "  'movies': '1,424',\n",
       "  'total': '$46,713,440,785',\n",
       "  'tickets': '6,749,759,237',\n",
       "  'percent': '20.48%'},\n",
       " {'rank': '4',\n",
       "  'rating': 'G',\n",
       "  'movies': '377',\n",
       "  'total': '$9,540,005,420',\n",
       "  'tickets': '1,529,977,839',\n",
       "  'percent': '4.18%'},\n",
       " {'rank': '5',\n",
       "  'rating': 'Not Rated',\n",
       "  'movies': '5,187',\n",
       "  'total': '$1,761,674,886',\n",
       "  'tickets': '267,618,935',\n",
       "  'percent': '0.77%'},\n",
       " {'rank': '6',\n",
       "  'rating': 'NC-17',\n",
       "  'movies': '24',\n",
       "  'total': '$44,850,139',\n",
       "  'tickets': '8,398,057',\n",
       "  'percent': '0.02%'},\n",
       " {'rank': '7',\n",
       "  'rating': 'Open',\n",
       "  'movies': '5',\n",
       "  'total': '$5,489,687',\n",
       "  'tickets': '980,320',\n",
       "  'percent': '0.00%'},\n",
       " {'rank': '8',\n",
       "  'rating': 'GP',\n",
       "  'movies': '6',\n",
       "  'total': '$274,799',\n",
       "  'tickets': '34,653',\n",
       "  'percent': '0.00%'},\n",
       " {'rank': '9',\n",
       "  'rating': 'M/PG',\n",
       "  'movies': '1',\n",
       "  'total': '$83,305',\n",
       "  'tickets': '11,107',\n",
       "  'percent': '0.00%'}]"
      ]
     },
     "execution_count": 15,
     "metadata": {},
     "output_type": "execute_result"
    }
   ],
   "source": [
    "share_per_rating = []\n",
    "i = 0\n",
    "# rating_range = int( len(share_rating) / 6 )\n",
    "# rating_range = len(share_rating) / 6\n",
    "\n",
    "for num in range(int( len(share_rating) / 6 )):\n",
    "\n",
    "    rating = dict([('rank', share_rating[i]), ('rating', share_rating[i+1]), \n",
    "                   ('movies', share_rating[i+2]), ('total', share_rating[i+3]),\n",
    "                   ('tickets', share_rating[i+4]), ('percent', share_rating[i+5])])\n",
    "    i += 6\n",
    "    share_per_rating.append(rating)\n",
    "    \n",
    "share_per_rating\n"
   ]
  },
  {
   "cell_type": "code",
   "execution_count": null,
   "metadata": {},
   "outputs": [],
   "source": []
  }
 ],
 "metadata": {
  "kernelspec": {
   "display_name": "Python 3",
   "language": "python",
   "name": "python3"
  },
  "language_info": {
   "codemirror_mode": {
    "name": "ipython",
    "version": 3
   },
   "file_extension": ".py",
   "mimetype": "text/x-python",
   "name": "python",
   "nbconvert_exporter": "python",
   "pygments_lexer": "ipython3",
   "version": "3.7.3"
  }
 },
 "nbformat": 4,
 "nbformat_minor": 2
}
