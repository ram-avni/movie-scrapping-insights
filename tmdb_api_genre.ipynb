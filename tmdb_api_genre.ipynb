{
 "cells": [
  {
   "cell_type": "code",
   "execution_count": null,
   "metadata": {},
   "outputs": [],
   "source": [
    "# This file uses api call to The Movie DB website in order to get genres types and ids"
   ]
  },
  {
   "cell_type": "code",
   "execution_count": 1,
   "metadata": {},
   "outputs": [],
   "source": [
    "import config\n",
    "import requests"
   ]
  },
  {
   "cell_type": "code",
   "execution_count": 2,
   "metadata": {},
   "outputs": [],
   "source": [
    "params = {'api_key': config.api_key, 'sort_by': 'vote_average.desc', 'vote_count.gte': 100, 'page': 1, 'with_original_language': 'en'}"
   ]
  },
  {
   "cell_type": "code",
   "execution_count": 3,
   "metadata": {},
   "outputs": [],
   "source": [
    "base_url = config.base_url"
   ]
  },
  {
   "cell_type": "code",
   "execution_count": 4,
   "metadata": {},
   "outputs": [],
   "source": [
    "# response = requests.get(base_url + '/discover/movie', params = params)"
   ]
  },
  {
   "cell_type": "code",
   "execution_count": 6,
   "metadata": {},
   "outputs": [],
   "source": [
    "url = \"https://api.themoviedb.org/3/genre/movie/list?api_key=04cd930f50827ce59f6013dd2ba1752f&language=en-US\""
   ]
  },
  {
   "cell_type": "code",
   "execution_count": 7,
   "metadata": {},
   "outputs": [],
   "source": [
    "response = requests.get(url)"
   ]
  },
  {
   "cell_type": "code",
   "execution_count": 13,
   "metadata": {},
   "outputs": [
    {
     "name": "stdout",
     "output_type": "stream",
     "text": [
      "19\n",
      "[{'id': 28, 'name': 'Action'}, {'id': 12, 'name': 'Adventure'}, {'id': 16, 'name': 'Animation'}, {'id': 35, 'name': 'Comedy'}, {'id': 80, 'name': 'Crime'}, {'id': 99, 'name': 'Documentary'}, {'id': 18, 'name': 'Drama'}, {'id': 10751, 'name': 'Family'}, {'id': 14, 'name': 'Fantasy'}, {'id': 36, 'name': 'History'}, {'id': 27, 'name': 'Horror'}, {'id': 10402, 'name': 'Music'}, {'id': 9648, 'name': 'Mystery'}, {'id': 10749, 'name': 'Romance'}, {'id': 878, 'name': 'Science Fiction'}, {'id': 10770, 'name': 'TV Movie'}, {'id': 53, 'name': 'Thriller'}, {'id': 10752, 'name': 'War'}, {'id': 37, 'name': 'Western'}]\n"
     ]
    },
    {
     "data": {
      "text/plain": [
       "{'genres': [{'id': 28, 'name': 'Action'},\n",
       "  {'id': 12, 'name': 'Adventure'},\n",
       "  {'id': 16, 'name': 'Animation'},\n",
       "  {'id': 35, 'name': 'Comedy'},\n",
       "  {'id': 80, 'name': 'Crime'},\n",
       "  {'id': 99, 'name': 'Documentary'},\n",
       "  {'id': 18, 'name': 'Drama'},\n",
       "  {'id': 10751, 'name': 'Family'},\n",
       "  {'id': 14, 'name': 'Fantasy'},\n",
       "  {'id': 36, 'name': 'History'},\n",
       "  {'id': 27, 'name': 'Horror'},\n",
       "  {'id': 10402, 'name': 'Music'},\n",
       "  {'id': 9648, 'name': 'Mystery'},\n",
       "  {'id': 10749, 'name': 'Romance'},\n",
       "  {'id': 878, 'name': 'Science Fiction'},\n",
       "  {'id': 10770, 'name': 'TV Movie'},\n",
       "  {'id': 53, 'name': 'Thriller'},\n",
       "  {'id': 10752, 'name': 'War'},\n",
       "  {'id': 37, 'name': 'Western'}]}"
      ]
     },
     "execution_count": 13,
     "metadata": {},
     "output_type": "execute_result"
    }
   ],
   "source": [
    "# len(response.json()['results'])\n",
    "\n",
    "print(len(response.json()['genres']))\n",
    "\n",
    "response.json()\n"
   ]
  },
  {
   "cell_type": "code",
   "execution_count": 28,
   "metadata": {},
   "outputs": [
    {
     "data": {
      "text/plain": [
       "dict_keys(['page', 'total_results', 'total_pages', 'results'])"
      ]
     },
     "execution_count": 28,
     "metadata": {},
     "output_type": "execute_result"
    }
   ],
   "source": [
    "response.json().keys()"
   ]
  },
  {
   "cell_type": "code",
   "execution_count": 31,
   "metadata": {},
   "outputs": [],
   "source": [
    "less_info = list(map(lambda x: {'id': x['id'],\n",
    "                                 'vote_average': x['vote_average'],\n",
    "                                 'title': x['title'],\n",
    "                                 'genre_ids': x['genre_ids']\n",
    "                               }, response.json()['results']))"
   ]
  },
  {
   "cell_type": "code",
   "execution_count": 38,
   "metadata": {},
   "outputs": [
    {
     "data": {
      "text/plain": [
       "[{'id': 278,\n",
       "  'vote_average': 8.7,\n",
       "  'title': 'The Shawshank Redemption',\n",
       "  'genre_ids': [18, 80]},\n",
       " {'id': 238,\n",
       "  'vote_average': 8.6,\n",
       "  'title': 'The Godfather',\n",
       "  'genre_ids': [18, 80]},\n",
       " {'id': 593691,\n",
       "  'vote_average': 8.6,\n",
       "  'title': 'Homecoming: A Film by Beyoncé',\n",
       "  'genre_ids': [99, 10402]},\n",
       " {'id': 424,\n",
       "  'vote_average': 8.5,\n",
       "  'title': \"Schindler's List\",\n",
       "  'genre_ids': [18, 36, 10752]},\n",
       " {'id': 377462,\n",
       "  'vote_average': 8.5,\n",
       "  'title': 'O.J. Made in America',\n",
       "  'genre_ids': [99]},\n",
       " {'id': 240,\n",
       "  'vote_average': 8.5,\n",
       "  'title': 'The Godfather: Part II',\n",
       "  'genre_ids': [18, 80]},\n",
       " {'id': 497,\n",
       "  'vote_average': 8.5,\n",
       "  'title': 'The Green Mile',\n",
       "  'genre_ids': [14, 18, 80]},\n",
       " {'id': 680,\n",
       "  'vote_average': 8.4,\n",
       "  'title': 'Pulp Fiction',\n",
       "  'genre_ids': [53, 80]},\n",
       " {'id': 324857,\n",
       "  'vote_average': 8.4,\n",
       "  'title': 'Spider-Man: Into the Spider-Verse',\n",
       "  'genre_ids': [28, 12, 16, 878, 35]},\n",
       " {'id': 155,\n",
       "  'vote_average': 8.4,\n",
       "  'title': 'The Dark Knight',\n",
       "  'genre_ids': [18, 28, 80, 53]},\n",
       " {'id': 13,\n",
       "  'vote_average': 8.4,\n",
       "  'title': 'Forrest Gump',\n",
       "  'genre_ids': [35, 18, 10749]},\n",
       " {'id': 550, 'vote_average': 8.4, 'title': 'Fight Club', 'genre_ids': [18]},\n",
       " {'id': 122,\n",
       "  'vote_average': 8.4,\n",
       "  'title': 'The Lord of the Rings: The Return of the King',\n",
       "  'genre_ids': [12, 14, 28]},\n",
       " {'id': 539,\n",
       "  'vote_average': 8.4,\n",
       "  'title': 'Psycho',\n",
       "  'genre_ids': [27, 18, 53]},\n",
       " {'id': 400608,\n",
       "  'vote_average': 8.4,\n",
       "  'title': 'Bo Burnham: Make Happy',\n",
       "  'genre_ids': [10402, 35]},\n",
       " {'id': 311,\n",
       "  'vote_average': 8.4,\n",
       "  'title': 'Once Upon a Time in America',\n",
       "  'genre_ids': [18, 80]},\n",
       " {'id': 769,\n",
       "  'vote_average': 8.4,\n",
       "  'title': 'GoodFellas',\n",
       "  'genre_ids': [18, 80]},\n",
       " {'id': 389, 'vote_average': 8.4, 'title': '12 Angry Men', 'genre_ids': [18]},\n",
       " {'id': 510,\n",
       "  'vote_average': 8.4,\n",
       "  'title': \"One Flew Over the Cuckoo's Nest\",\n",
       "  'genre_ids': [18]},\n",
       " {'id': 901,\n",
       "  'vote_average': 8.4,\n",
       "  'title': 'City Lights',\n",
       "  'genre_ids': [35, 18, 10749]}]"
      ]
     },
     "execution_count": 38,
     "metadata": {},
     "output_type": "execute_result"
    }
   ],
   "source": [
    "less_info"
   ]
  },
  {
   "cell_type": "code",
   "execution_count": null,
   "metadata": {},
   "outputs": [],
   "source": []
  }
 ],
 "metadata": {
  "kernelspec": {
   "display_name": "Python 3",
   "language": "python",
   "name": "python3"
  },
  "language_info": {
   "codemirror_mode": {
    "name": "ipython",
    "version": 3
   },
   "file_extension": ".py",
   "mimetype": "text/x-python",
   "name": "python",
   "nbconvert_exporter": "python",
   "pygments_lexer": "ipython3",
   "version": "3.7.3"
  }
 },
 "nbformat": 4,
 "nbformat_minor": 2
}
